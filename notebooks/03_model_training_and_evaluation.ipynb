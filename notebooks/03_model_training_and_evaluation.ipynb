{
 "cells": [
  {
   "cell_type": "code",
   "execution_count": 2,
   "id": "41e56a8d-8945-415d-bc1f-7fa193dabd24",
   "metadata": {},
   "outputs": [],
   "source": [
    "# Import necessary libraries\n",
    "import pandas as pd\n",
    "from sklearn.model_selection import train_test_split\n",
    "from sklearn.linear_model import LogisticRegression\n",
    "from sklearn.ensemble import RandomForestClassifier\n",
    "from xgboost import XGBClassifier\n",
    "from sklearn.metrics import accuracy_score, classification_report\n"
   ]
  },
  {
   "cell_type": "markdown",
   "id": "4a817af0-0e5d-4922-b031-ddb0100ca00f",
   "metadata": {},
   "source": [
    "## 1. Load the Preprocessed Features"
   ]
  },
  {
   "cell_type": "code",
   "execution_count": 11,
   "id": "6dcb0aa7-642d-4ee4-a85d-9bb39765805f",
   "metadata": {},
   "outputs": [
    {
     "name": "stdout",
     "output_type": "stream",
     "text": [
      "<class 'pandas.core.frame.DataFrame'>\n",
      "RangeIndex: 891 entries, 0 to 890\n",
      "Data columns (total 29 columns):\n",
      " #   Column          Non-Null Count  Dtype  \n",
      "---  ------          --------------  -----  \n",
      " 0   PassengerId     891 non-null    int64  \n",
      " 1   Survived        891 non-null    int64  \n",
      " 2   Pclass          891 non-null    int64  \n",
      " 3   Age             891 non-null    float64\n",
      " 4   SibSp           891 non-null    int64  \n",
      " 5   Parch           891 non-null    int64  \n",
      " 6   Fare            891 non-null    float64\n",
      " 7   Sex_female      891 non-null    bool   \n",
      " 8   Sex_male        891 non-null    bool   \n",
      " 9   Embarked_C      891 non-null    bool   \n",
      " 10  Embarked_Q      891 non-null    bool   \n",
      " 11  Embarked_S      891 non-null    bool   \n",
      " 12  Title_Capt      891 non-null    bool   \n",
      " 13  Title_Col       891 non-null    bool   \n",
      " 14  Title_Countess  891 non-null    bool   \n",
      " 15  Title_Don       891 non-null    bool   \n",
      " 16  Title_Dr        891 non-null    bool   \n",
      " 17  Title_Jonkheer  891 non-null    bool   \n",
      " 18  Title_Lady      891 non-null    bool   \n",
      " 19  Title_Major     891 non-null    bool   \n",
      " 20  Title_Master    891 non-null    bool   \n",
      " 21  Title_Miss      891 non-null    bool   \n",
      " 22  Title_Mlle      891 non-null    bool   \n",
      " 23  Title_Mme       891 non-null    bool   \n",
      " 24  Title_Mr        891 non-null    bool   \n",
      " 25  Title_Mrs       891 non-null    bool   \n",
      " 26  Title_Ms        891 non-null    bool   \n",
      " 27  Title_Rev       891 non-null    bool   \n",
      " 28  Title_Sir       891 non-null    bool   \n",
      "dtypes: bool(22), float64(2), int64(5)\n",
      "memory usage: 68.0 KB\n"
     ]
    }
   ],
   "source": [
    "data_path = '../data/processed/train.csv'\n",
    "titanic_data = pd.read_csv(data_path)\n",
    "\n",
    "\n",
    "titanic_data.info()"
   ]
  },
  {
   "cell_type": "code",
   "execution_count": 7,
   "id": "186e2841-62d1-4144-9981-7fb7fb2fd63a",
   "metadata": {},
   "outputs": [],
   "source": [
    "\n",
    "# Split the data into features (X) and target (y)\n",
    "X = titanic_data.drop('Survived', axis=1)\n",
    "y = titanic_data['Survived']\n",
    "\n",
    "# Split the data into training and validation sets\n",
    "X_train, X_val, y_train, y_val = train_test_split(X, y, test_size=0.2, random_state=42)\n"
   ]
  },
  {
   "cell_type": "markdown",
   "id": "93b9c992-05d7-4fdf-b5ef-5cf6a45ae791",
   "metadata": {},
   "source": [
    "## 2. Evaluate a variety of Models"
   ]
  },
  {
   "cell_type": "markdown",
   "id": "78640753-e896-4435-af24-f2cba65ad824",
   "metadata": {},
   "source": [
    "### Logistic Regression"
   ]
  },
  {
   "cell_type": "code",
   "execution_count": 8,
   "id": "bc9ef3bb-b8a0-4f2e-8b83-e4d0981ceb03",
   "metadata": {},
   "outputs": [
    {
     "name": "stdout",
     "output_type": "stream",
     "text": [
      "Logistic Regression:\n",
      "Accuracy: 0.7932960893854749\n",
      "Classification Report:\n",
      "               precision    recall  f1-score   support\n",
      "\n",
      "           0       0.81      0.85      0.83       105\n",
      "           1       0.77      0.72      0.74        74\n",
      "\n",
      "    accuracy                           0.79       179\n",
      "   macro avg       0.79      0.78      0.78       179\n",
      "weighted avg       0.79      0.79      0.79       179\n",
      "\n"
     ]
    },
    {
     "name": "stderr",
     "output_type": "stream",
     "text": [
      "/Users/home/.local/share/virtualenvs/notebooks-HCvIMI_a/lib/python3.11/site-packages/sklearn/linear_model/_logistic.py:460: ConvergenceWarning: lbfgs failed to converge (status=1):\n",
      "STOP: TOTAL NO. of ITERATIONS REACHED LIMIT.\n",
      "\n",
      "Increase the number of iterations (max_iter) or scale the data as shown in:\n",
      "    https://scikit-learn.org/stable/modules/preprocessing.html\n",
      "Please also refer to the documentation for alternative solver options:\n",
      "    https://scikit-learn.org/stable/modules/linear_model.html#logistic-regression\n",
      "  n_iter_i = _check_optimize_result(\n"
     ]
    }
   ],
   "source": [
    "\n",
    "# Train and evaluate a Logistic Regression model\n",
    "logreg_model = LogisticRegression()\n",
    "logreg_model.fit(X_train, y_train)\n",
    "logreg_preds = logreg_model.predict(X_val)\n",
    "\n",
    "print(\"Logistic Regression:\")\n",
    "print(\"Accuracy:\", accuracy_score(y_val, logreg_preds))\n",
    "print(\"Classification Report:\\n\", classification_report(y_val, logreg_preds))\n"
   ]
  },
  {
   "cell_type": "markdown",
   "id": "67f1be07-e5fe-434b-87a1-34ed8bbae7ab",
   "metadata": {},
   "source": [
    "### Random Forest Classifier"
   ]
  },
  {
   "cell_type": "code",
   "execution_count": 9,
   "id": "55d06e32-afcf-436e-a40e-d1553fd1386d",
   "metadata": {},
   "outputs": [
    {
     "name": "stdout",
     "output_type": "stream",
     "text": [
      "\n",
      "Random Forest:\n",
      "Accuracy: 0.8324022346368715\n",
      "Classification Report:\n",
      "               precision    recall  f1-score   support\n",
      "\n",
      "           0       0.85      0.87      0.86       105\n",
      "           1       0.81      0.78      0.79        74\n",
      "\n",
      "    accuracy                           0.83       179\n",
      "   macro avg       0.83      0.83      0.83       179\n",
      "weighted avg       0.83      0.83      0.83       179\n",
      "\n"
     ]
    }
   ],
   "source": [
    "\n",
    "# Train and evaluate a Random Forest model\n",
    "rf_model = RandomForestClassifier()\n",
    "rf_model.fit(X_train, y_train)\n",
    "rf_preds = rf_model.predict(X_val)\n",
    "\n",
    "print(\"\\nRandom Forest:\")\n",
    "print(\"Accuracy:\", accuracy_score(y_val, rf_preds))\n",
    "print(\"Classification Report:\\n\", classification_report(y_val, rf_preds))\n"
   ]
  },
  {
   "cell_type": "markdown",
   "id": "575ac1aa-2a08-43a1-a286-9b2ea00372c4",
   "metadata": {},
   "source": [
    "### XGBoost"
   ]
  },
  {
   "cell_type": "code",
   "execution_count": 10,
   "id": "ceddae0c-59f2-4204-a987-ffbe9a1bbb10",
   "metadata": {},
   "outputs": [
    {
     "name": "stdout",
     "output_type": "stream",
     "text": [
      "\n",
      "XGBoost:\n",
      "Accuracy: 0.7932960893854749\n",
      "Classification Report:\n",
      "               precision    recall  f1-score   support\n",
      "\n",
      "           0       0.83      0.81      0.82       105\n",
      "           1       0.74      0.77      0.75        74\n",
      "\n",
      "    accuracy                           0.79       179\n",
      "   macro avg       0.79      0.79      0.79       179\n",
      "weighted avg       0.79      0.79      0.79       179\n",
      "\n"
     ]
    }
   ],
   "source": [
    "\n",
    "# Train and evaluate an XGBoost model\n",
    "xgb_model = XGBClassifier()\n",
    "xgb_model.fit(X_train, y_train)\n",
    "xgb_preds = xgb_model.predict(X_val)\n",
    "\n",
    "print(\"\\nXGBoost:\")\n",
    "print(\"Accuracy:\", accuracy_score(y_val, xgb_preds))\n",
    "print(\"Classification Report:\\n\", classification_report(y_val, xgb_preds))\n"
   ]
  },
  {
   "cell_type": "markdown",
   "id": "8106a4fa-7a34-4451-b127-a493ed40cda0",
   "metadata": {},
   "source": [
    "## 3. Serialize the Best Model"
   ]
  },
  {
   "cell_type": "code",
   "execution_count": null,
   "id": "2ace7b73-5d35-4935-8d10-b5818fcfe4b3",
   "metadata": {},
   "outputs": [],
   "source": [
    "import joblib\n",
    "from pathlib import Path\n",
    "\n",
    "models_directory = Path('../models')\n",
    "models_directory.mkdir(exist_ok=True)\n",
    "\n",
    "models_filename = f\"\"\n",
    "\n",
    "joblib.dump(rf_model, 'RFC_model_0001.joblib')"
   ]
  }
 ],
 "metadata": {
  "kernelspec": {
   "display_name": "Python 3 (ipykernel)",
   "language": "python",
   "name": "python3"
  },
  "language_info": {
   "codemirror_mode": {
    "name": "ipython",
    "version": 3
   },
   "file_extension": ".py",
   "mimetype": "text/x-python",
   "name": "python",
   "nbconvert_exporter": "python",
   "pygments_lexer": "ipython3",
   "version": "3.11.5"
  }
 },
 "nbformat": 4,
 "nbformat_minor": 5
}
