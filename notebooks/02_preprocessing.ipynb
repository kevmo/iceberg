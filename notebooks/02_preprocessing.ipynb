{
 "cells": [
  {
   "cell_type": "code",
   "execution_count": 1,
   "id": "7db863db-ecf6-465c-843e-59afecc1f25a",
   "metadata": {},
   "outputs": [],
   "source": [
    "import pandas as pd"
   ]
  },
  {
   "cell_type": "markdown",
   "id": "8cd13566-2c83-48a4-98fb-6f25d6283893",
   "metadata": {},
   "source": [
    "## Load Data"
   ]
  },
  {
   "cell_type": "code",
   "execution_count": 2,
   "id": "708d1e59-3c05-452d-aafc-ec20175a20a1",
   "metadata": {},
   "outputs": [
    {
     "name": "stdout",
     "output_type": "stream",
     "text": [
      "<class 'pandas.core.frame.DataFrame'>\n",
      "RangeIndex: 891 entries, 0 to 890\n",
      "Data columns (total 12 columns):\n",
      " #   Column       Non-Null Count  Dtype  \n",
      "---  ------       --------------  -----  \n",
      " 0   PassengerId  891 non-null    int64  \n",
      " 1   Survived     891 non-null    int64  \n",
      " 2   Pclass       891 non-null    int64  \n",
      " 3   Name         891 non-null    object \n",
      " 4   Sex          891 non-null    object \n",
      " 5   Age          714 non-null    float64\n",
      " 6   SibSp        891 non-null    int64  \n",
      " 7   Parch        891 non-null    int64  \n",
      " 8   Ticket       891 non-null    object \n",
      " 9   Fare         891 non-null    float64\n",
      " 10  Cabin        204 non-null    object \n",
      " 11  Embarked     889 non-null    object \n",
      "dtypes: float64(2), int64(5), object(5)\n",
      "memory usage: 83.7+ KB\n"
     ]
    }
   ],
   "source": [
    "titanic_data = pd.read_csv('../data/raw/train.csv')\n",
    "\n",
    "titanic_data.info()"
   ]
  },
  {
   "cell_type": "markdown",
   "id": "e94d5b45-8231-4a3c-a431-04a56f252374",
   "metadata": {},
   "source": [
    "## Impute Missing Values"
   ]
  },
  {
   "cell_type": "code",
   "execution_count": 3,
   "id": "bc4beac5-c62d-42fd-9abb-69e6f3d94947",
   "metadata": {},
   "outputs": [
    {
     "name": "stdout",
     "output_type": "stream",
     "text": [
      "<class 'pandas.core.frame.DataFrame'>\n",
      "RangeIndex: 891 entries, 0 to 890\n",
      "Data columns (total 12 columns):\n",
      " #   Column       Non-Null Count  Dtype  \n",
      "---  ------       --------------  -----  \n",
      " 0   PassengerId  891 non-null    int64  \n",
      " 1   Survived     891 non-null    int64  \n",
      " 2   Pclass       891 non-null    int64  \n",
      " 3   Name         891 non-null    object \n",
      " 4   Sex          891 non-null    object \n",
      " 5   Age          891 non-null    float64\n",
      " 6   SibSp        891 non-null    int64  \n",
      " 7   Parch        891 non-null    int64  \n",
      " 8   Ticket       891 non-null    object \n",
      " 9   Fare         891 non-null    float64\n",
      " 10  Cabin        204 non-null    object \n",
      " 11  Embarked     891 non-null    object \n",
      "dtypes: float64(2), int64(5), object(5)\n",
      "memory usage: 83.7+ KB\n"
     ]
    }
   ],
   "source": [
    "titanic_data['Age'].fillna(titanic_data['Age'].median(), inplace=True)\n",
    "titanic_data['Embarked'].fillna(titanic_data['Embarked'].mode()[0], inplace=True)\n",
    "titanic_data['Fare'].fillna(titanic_data['Fare'].median(), inplace=True)\n",
    "\n",
    "titanic_data.info()\n"
   ]
  },
  {
   "cell_type": "markdown",
   "id": "69c2e10b-b7c7-463a-985f-c53b3d03add3",
   "metadata": {},
   "source": [
    "## Dropping a column with many missing values"
   ]
  },
  {
   "cell_type": "code",
   "execution_count": 4,
   "id": "8578d9d2-da1a-488a-86ea-385da9452ead",
   "metadata": {},
   "outputs": [
    {
     "name": "stdout",
     "output_type": "stream",
     "text": [
      "<class 'pandas.core.frame.DataFrame'>\n",
      "RangeIndex: 891 entries, 0 to 890\n",
      "Data columns (total 11 columns):\n",
      " #   Column       Non-Null Count  Dtype  \n",
      "---  ------       --------------  -----  \n",
      " 0   PassengerId  891 non-null    int64  \n",
      " 1   Survived     891 non-null    int64  \n",
      " 2   Pclass       891 non-null    int64  \n",
      " 3   Name         891 non-null    object \n",
      " 4   Sex          891 non-null    object \n",
      " 5   Age          891 non-null    float64\n",
      " 6   SibSp        891 non-null    int64  \n",
      " 7   Parch        891 non-null    int64  \n",
      " 8   Ticket       891 non-null    object \n",
      " 9   Fare         891 non-null    float64\n",
      " 10  Embarked     891 non-null    object \n",
      "dtypes: float64(2), int64(5), object(4)\n",
      "memory usage: 76.7+ KB\n"
     ]
    }
   ],
   "source": [
    "titanic_data.drop('Cabin', axis=1, inplace=True)\n",
    "\n",
    "titanic_data.info()"
   ]
  },
  {
   "cell_type": "code",
   "execution_count": 5,
   "id": "2b228cde-65a9-4ffe-8c5e-3da5b4d12b12",
   "metadata": {},
   "outputs": [
    {
     "data": {
      "text/plain": [
       "Index(['PassengerId', 'Survived', 'Pclass', 'Name', 'Sex', 'Age', 'SibSp',\n",
       "       'Parch', 'Ticket', 'Fare', 'Embarked'],\n",
       "      dtype='object')"
      ]
     },
     "execution_count": 5,
     "metadata": {},
     "output_type": "execute_result"
    }
   ],
   "source": [
    "titanic_data.columns"
   ]
  },
  {
   "cell_type": "markdown",
   "id": "acc125b0-26ef-48f5-b5ae-f4eed6871cc2",
   "metadata": {},
   "source": [
    "## One-hot encoding of remaining categorical variables\n"
   ]
  },
  {
   "cell_type": "code",
   "execution_count": 6,
   "id": "0092fb87-1efe-4314-8c56-cd5f14c3b395",
   "metadata": {},
   "outputs": [],
   "source": [
    "\n",
    "titanic_data = pd.get_dummies(titanic_data, columns=['Sex', 'Embarked'])\n"
   ]
  },
  {
   "cell_type": "code",
   "execution_count": 7,
   "id": "90327012-781e-464c-9a03-2210c6f57731",
   "metadata": {},
   "outputs": [
    {
     "name": "stdout",
     "output_type": "stream",
     "text": [
      "<class 'pandas.core.frame.DataFrame'>\n",
      "RangeIndex: 891 entries, 0 to 890\n",
      "Data columns (total 14 columns):\n",
      " #   Column       Non-Null Count  Dtype  \n",
      "---  ------       --------------  -----  \n",
      " 0   PassengerId  891 non-null    int64  \n",
      " 1   Survived     891 non-null    int64  \n",
      " 2   Pclass       891 non-null    int64  \n",
      " 3   Name         891 non-null    object \n",
      " 4   Age          891 non-null    float64\n",
      " 5   SibSp        891 non-null    int64  \n",
      " 6   Parch        891 non-null    int64  \n",
      " 7   Ticket       891 non-null    object \n",
      " 8   Fare         891 non-null    float64\n",
      " 9   Sex_female   891 non-null    bool   \n",
      " 10  Sex_male     891 non-null    bool   \n",
      " 11  Embarked_C   891 non-null    bool   \n",
      " 12  Embarked_Q   891 non-null    bool   \n",
      " 13  Embarked_S   891 non-null    bool   \n",
      "dtypes: bool(5), float64(2), int64(5), object(2)\n",
      "memory usage: 67.1+ KB\n"
     ]
    }
   ],
   "source": [
    "titanic_data.info()"
   ]
  },
  {
   "cell_type": "markdown",
   "id": "221c8515-d0ba-446d-99cd-c2df038c9d19",
   "metadata": {},
   "source": [
    "## Extracting information from non-numerical column \"Name\""
   ]
  },
  {
   "cell_type": "code",
   "execution_count": 8,
   "id": "3bec1b82-150d-4a72-a146-b40c6af91c95",
   "metadata": {},
   "outputs": [
    {
     "name": "stdout",
     "output_type": "stream",
     "text": [
      "<class 'pandas.core.frame.DataFrame'>\n",
      "RangeIndex: 891 entries, 0 to 890\n",
      "Data columns (total 30 columns):\n",
      " #   Column          Non-Null Count  Dtype  \n",
      "---  ------          --------------  -----  \n",
      " 0   PassengerId     891 non-null    int64  \n",
      " 1   Survived        891 non-null    int64  \n",
      " 2   Pclass          891 non-null    int64  \n",
      " 3   Age             891 non-null    float64\n",
      " 4   SibSp           891 non-null    int64  \n",
      " 5   Parch           891 non-null    int64  \n",
      " 6   Ticket          891 non-null    object \n",
      " 7   Fare            891 non-null    float64\n",
      " 8   Sex_female      891 non-null    bool   \n",
      " 9   Sex_male        891 non-null    bool   \n",
      " 10  Embarked_C      891 non-null    bool   \n",
      " 11  Embarked_Q      891 non-null    bool   \n",
      " 12  Embarked_S      891 non-null    bool   \n",
      " 13  Title_Capt      891 non-null    bool   \n",
      " 14  Title_Col       891 non-null    bool   \n",
      " 15  Title_Countess  891 non-null    bool   \n",
      " 16  Title_Don       891 non-null    bool   \n",
      " 17  Title_Dr        891 non-null    bool   \n",
      " 18  Title_Jonkheer  891 non-null    bool   \n",
      " 19  Title_Lady      891 non-null    bool   \n",
      " 20  Title_Major     891 non-null    bool   \n",
      " 21  Title_Master    891 non-null    bool   \n",
      " 22  Title_Miss      891 non-null    bool   \n",
      " 23  Title_Mlle      891 non-null    bool   \n",
      " 24  Title_Mme       891 non-null    bool   \n",
      " 25  Title_Mr        891 non-null    bool   \n",
      " 26  Title_Mrs       891 non-null    bool   \n",
      " 27  Title_Ms        891 non-null    bool   \n",
      " 28  Title_Rev       891 non-null    bool   \n",
      " 29  Title_Sir       891 non-null    bool   \n",
      "dtypes: bool(22), float64(2), int64(5), object(1)\n",
      "memory usage: 75.0+ KB\n"
     ]
    }
   ],
   "source": [
    "\n",
    "# Extract titles from 'Name'\n",
    "titanic_data['Title'] = titanic_data['Name'].str.extract(' ([A-Za-z]+)\\.', expand=False)\n",
    "\n",
    "# Drop the original 'Name' column\n",
    "titanic_data.drop('Name', axis=1, inplace=True)\n",
    "\n",
    "# One-hot encoding\n",
    "titanic_data = pd.get_dummies(titanic_data, columns=['Title'])\n",
    "\n",
    "titanic_data.info()"
   ]
  },
  {
   "cell_type": "markdown",
   "id": "4644a977-b8f9-46e3-aa75-8796f82ebced",
   "metadata": {},
   "source": [
    "## Dropping a final non-numeric column"
   ]
  },
  {
   "cell_type": "code",
   "execution_count": 11,
   "id": "9d9cc1d0-dc4c-4062-af0a-ac5aa940f60f",
   "metadata": {},
   "outputs": [
    {
     "name": "stdout",
     "output_type": "stream",
     "text": [
      "<class 'pandas.core.frame.DataFrame'>\n",
      "RangeIndex: 891 entries, 0 to 890\n",
      "Data columns (total 29 columns):\n",
      " #   Column          Non-Null Count  Dtype  \n",
      "---  ------          --------------  -----  \n",
      " 0   PassengerId     891 non-null    int64  \n",
      " 1   Survived        891 non-null    int64  \n",
      " 2   Pclass          891 non-null    int64  \n",
      " 3   Age             891 non-null    float64\n",
      " 4   SibSp           891 non-null    int64  \n",
      " 5   Parch           891 non-null    int64  \n",
      " 6   Fare            891 non-null    float64\n",
      " 7   Sex_female      891 non-null    bool   \n",
      " 8   Sex_male        891 non-null    bool   \n",
      " 9   Embarked_C      891 non-null    bool   \n",
      " 10  Embarked_Q      891 non-null    bool   \n",
      " 11  Embarked_S      891 non-null    bool   \n",
      " 12  Title_Capt      891 non-null    bool   \n",
      " 13  Title_Col       891 non-null    bool   \n",
      " 14  Title_Countess  891 non-null    bool   \n",
      " 15  Title_Don       891 non-null    bool   \n",
      " 16  Title_Dr        891 non-null    bool   \n",
      " 17  Title_Jonkheer  891 non-null    bool   \n",
      " 18  Title_Lady      891 non-null    bool   \n",
      " 19  Title_Major     891 non-null    bool   \n",
      " 20  Title_Master    891 non-null    bool   \n",
      " 21  Title_Miss      891 non-null    bool   \n",
      " 22  Title_Mlle      891 non-null    bool   \n",
      " 23  Title_Mme       891 non-null    bool   \n",
      " 24  Title_Mr        891 non-null    bool   \n",
      " 25  Title_Mrs       891 non-null    bool   \n",
      " 26  Title_Ms        891 non-null    bool   \n",
      " 27  Title_Rev       891 non-null    bool   \n",
      " 28  Title_Sir       891 non-null    bool   \n",
      "dtypes: bool(22), float64(2), int64(5)\n",
      "memory usage: 68.0 KB\n"
     ]
    }
   ],
   "source": [
    "titanic_data.drop('Ticket', axis=1, inplace=True)\n",
    "\n",
    "titanic_data.info()"
   ]
  },
  {
   "cell_type": "code",
   "execution_count": null,
   "id": "96858d21-c2be-4d93-b87b-c3cd0faafc98",
   "metadata": {},
   "outputs": [],
   "source": []
  }
 ],
 "metadata": {
  "kernelspec": {
   "display_name": "Python 3 (ipykernel)",
   "language": "python",
   "name": "python3"
  },
  "language_info": {
   "codemirror_mode": {
    "name": "ipython",
    "version": 3
   },
   "file_extension": ".py",
   "mimetype": "text/x-python",
   "name": "python",
   "nbconvert_exporter": "python",
   "pygments_lexer": "ipython3",
   "version": "3.11.5"
  }
 },
 "nbformat": 4,
 "nbformat_minor": 5
}
