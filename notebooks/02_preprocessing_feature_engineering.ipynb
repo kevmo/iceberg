{
 "cells": [
  {
   "cell_type": "code",
   "execution_count": null,
   "id": "7db863db-ecf6-465c-843e-59afecc1f25a",
   "metadata": {},
   "outputs": [],
   "source": [
    "import pandas as pd"
   ]
  },
  {
   "cell_type": "markdown",
   "id": "8cd13566-2c83-48a4-98fb-6f25d6283893",
   "metadata": {},
   "source": [
    "## Load Data"
   ]
  },
  {
   "cell_type": "code",
   "execution_count": null,
   "id": "708d1e59-3c05-452d-aafc-ec20175a20a1",
   "metadata": {},
   "outputs": [],
   "source": [
    "titanic_data = pd.read_csv('../data/raw/train.csv')\n",
    "\n",
    "titanic_data.info()"
   ]
  },
  {
   "cell_type": "markdown",
   "id": "e94d5b45-8231-4a3c-a431-04a56f252374",
   "metadata": {},
   "source": [
    "## Impute Missing Values"
   ]
  },
  {
   "cell_type": "code",
   "execution_count": null,
   "id": "bc4beac5-c62d-42fd-9abb-69e6f3d94947",
   "metadata": {},
   "outputs": [],
   "source": [
    "titanic_data['Age'].fillna(titanic_data['Age'].median(), inplace=True)\n",
    "titanic_data['Embarked'].fillna(titanic_data['Embarked'].mode()[0], inplace=True)\n",
    "titanic_data['Fare'].fillna(titanic_data['Fare'].median(), inplace=True)\n",
    "\n",
    "titanic_data.info()\n"
   ]
  },
  {
   "cell_type": "markdown",
   "id": "69c2e10b-b7c7-463a-985f-c53b3d03add3",
   "metadata": {},
   "source": [
    "## Dropping a column with many missing values"
   ]
  },
  {
   "cell_type": "code",
   "execution_count": null,
   "id": "8578d9d2-da1a-488a-86ea-385da9452ead",
   "metadata": {},
   "outputs": [],
   "source": [
    "titanic_data.drop('Cabin', axis=1, inplace=True)\n",
    "\n",
    "titanic_data.info()"
   ]
  },
  {
   "cell_type": "code",
   "execution_count": null,
   "id": "2b228cde-65a9-4ffe-8c5e-3da5b4d12b12",
   "metadata": {},
   "outputs": [],
   "source": [
    "titanic_data.columns"
   ]
  },
  {
   "cell_type": "markdown",
   "id": "acc125b0-26ef-48f5-b5ae-f4eed6871cc2",
   "metadata": {},
   "source": [
    "## One-hot encoding of remaining categorical variables\n"
   ]
  },
  {
   "cell_type": "code",
   "execution_count": null,
   "id": "0092fb87-1efe-4314-8c56-cd5f14c3b395",
   "metadata": {},
   "outputs": [],
   "source": [
    "\n",
    "titanic_data = pd.get_dummies(titanic_data, columns=['Sex', 'Embarked'])\n"
   ]
  },
  {
   "cell_type": "code",
   "execution_count": null,
   "id": "90327012-781e-464c-9a03-2210c6f57731",
   "metadata": {},
   "outputs": [],
   "source": [
    "titanic_data.info()"
   ]
  },
  {
   "cell_type": "markdown",
   "id": "221c8515-d0ba-446d-99cd-c2df038c9d19",
   "metadata": {},
   "source": [
    "## Extracting information from non-numerical column \"Name\""
   ]
  },
  {
   "cell_type": "code",
   "execution_count": null,
   "id": "3bec1b82-150d-4a72-a146-b40c6af91c95",
   "metadata": {},
   "outputs": [],
   "source": [
    "\n",
    "# Extract titles from 'Name'\n",
    "titanic_data['Title'] = titanic_data['Name'].str.extract(' ([A-Za-z]+)\\.', expand=False)\n",
    "\n",
    "# Drop the original 'Name' column\n",
    "titanic_data.drop('Name', axis=1, inplace=True)\n",
    "\n",
    "# One-hot encoding\n",
    "titanic_data = pd.get_dummies(titanic_data, columns=['Title'])\n",
    "\n",
    "titanic_data.info()"
   ]
  },
  {
   "cell_type": "markdown",
   "id": "4644a977-b8f9-46e3-aa75-8796f82ebced",
   "metadata": {},
   "source": [
    "## Dropping a final non-numeric column"
   ]
  },
  {
   "cell_type": "code",
   "execution_count": null,
   "id": "9d9cc1d0-dc4c-4062-af0a-ac5aa940f60f",
   "metadata": {},
   "outputs": [],
   "source": [
    "titanic_data.drop('Ticket', axis=1, inplace=True)\n",
    "\n",
    "titanic_data.info()"
   ]
  },
  {
   "cell_type": "markdown",
   "id": "e970e167-ff1e-458e-bb9e-ccf5d1f29fdd",
   "metadata": {},
   "source": [
    "## Save the Preprocessed Features"
   ]
  },
  {
   "cell_type": "code",
   "execution_count": null,
   "id": "c4a21257-df2b-4718-87e6-54803a6ede97",
   "metadata": {},
   "outputs": [],
   "source": [
    "titanic_data.to_csv('../data/processed/train.csv', index=False)"
   ]
  },
  {
   "cell_type": "code",
   "execution_count": null,
   "id": "588f0618-02c3-429c-b8c5-88f182b83c9a",
   "metadata": {},
   "outputs": [],
   "source": []
  }
 ],
 "metadata": {
  "kernelspec": {
   "display_name": "Python 3 (ipykernel)",
   "language": "python",
   "name": "python3"
  },
  "language_info": {
   "codemirror_mode": {
    "name": "ipython",
    "version": 3
   },
   "file_extension": ".py",
   "mimetype": "text/x-python",
   "name": "python",
   "nbconvert_exporter": "python",
   "pygments_lexer": "ipython3",
   "version": "3.11.5"
  }
 },
 "nbformat": 4,
 "nbformat_minor": 5
}
